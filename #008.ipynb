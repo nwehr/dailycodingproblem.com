{
 "cells": [
  {
   "cell_type": "markdown",
   "metadata": {},
   "source": [
    "## #8 [Easy]\n",
    "\n",
    "This problem was asked by Google.\n",
    "\n",
    "A unival tree (which stands for \"universal value\") is a tree where all nodes under it have the same value.\n",
    "\n",
    "Given the root to a binary tree, count the number of unival subtrees.\n",
    "\n",
    "For example, the following tree has 5 unival subtrees:\n",
    "\n",
    "```\n",
    "   0\n",
    "  / \\\n",
    " 1   0\n",
    "    / \\\n",
    "   1   0\n",
    "  / \\\n",
    " 1   1\n",
    "```"
   ]
  },
  {
   "cell_type": "code",
   "execution_count": 17,
   "metadata": {},
   "outputs": [],
   "source": [
    "class Node:\n",
    "    def __init__(self, value, left = None, right = None):\n",
    "        self.value = value\n",
    "        self.left = left\n",
    "        self.right = right\n",
    "        \n",
    "    def is_unival(self):\n",
    "        if self.left == None and self.right == None:\n",
    "            return True\n",
    "        \n",
    "        if self.value == self.left.value and self.value == self.right.value:\n",
    "            return True\n",
    "        \n",
    "        return False\n",
    "        \n",
    "\n",
    "        \n",
    "def count_unival_trees(node):\n",
    "    count = 0\n",
    "    \n",
    "    if node.is_unival():\n",
    "        count = 1\n",
    "    \n",
    "    if node.left != None:\n",
    "        count += count_unival_trees(node.left)\n",
    "        \n",
    "    if node.right != None:\n",
    "        count += count_unival_trees(node.right)\n",
    "        \n",
    "    return count\n",
    "    \n",
    "root = Node(0, Node(1), Node(0, Node(1, Node(1), Node(1)), Node(0)))\n",
    "\n",
    "assert count_unival_trees(root) == 5"
   ]
  }
 ],
 "metadata": {
  "kernelspec": {
   "display_name": "Python 3",
   "language": "python",
   "name": "python3"
  },
  "language_info": {
   "codemirror_mode": {
    "name": "ipython",
    "version": 3
   },
   "file_extension": ".py",
   "mimetype": "text/x-python",
   "name": "python",
   "nbconvert_exporter": "python",
   "pygments_lexer": "ipython3",
   "version": "3.9.5"
  }
 },
 "nbformat": 4,
 "nbformat_minor": 4
}
