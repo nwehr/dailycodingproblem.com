{
 "cells": [
  {
   "cell_type": "markdown",
   "id": "899f8a4f",
   "metadata": {},
   "source": [
    "## #15 [Medium]\n",
    "\n",
    "his problem was asked by Facebook.\n",
    "\n",
    "Given a stream of elements too large to store in memory, pick a random element from the stream with uniform probability."
   ]
  },
  {
   "cell_type": "code",
   "execution_count": 73,
   "id": "d3917581",
   "metadata": {},
   "outputs": [
    {
     "name": "stdout",
     "output_type": "stream",
     "text": [
      "c\n"
     ]
    }
   ],
   "source": [
    "import random\n",
    "\n",
    "def get_random_char(char_stream: str):\n",
    "    char = \"\"\n",
    "    \n",
    "    for i in range(0, len(char_stream)):\n",
    "        if i == 0:\n",
    "            char = char_stream[i]\n",
    "        else:\n",
    "            char = char_stream[random.randint(0,i)]\n",
    "    \n",
    "    return char\n",
    "    \n",
    "print(get_random_char(\"abcdefg\"))"
   ]
  }
 ],
 "metadata": {
  "kernelspec": {
   "display_name": "Python 3",
   "language": "python",
   "name": "python3"
  },
  "language_info": {
   "codemirror_mode": {
    "name": "ipython",
    "version": 3
   },
   "file_extension": ".py",
   "mimetype": "text/x-python",
   "name": "python",
   "nbconvert_exporter": "python",
   "pygments_lexer": "ipython3",
   "version": "3.9.5"
  }
 },
 "nbformat": 4,
 "nbformat_minor": 5
}
