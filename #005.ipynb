{
 "cells": [
  {
   "cell_type": "markdown",
   "metadata": {},
   "source": [
    "## #5 [Medium]\n",
    "\n",
    "This problem was asked by Jane Street.\n",
    "\n",
    "`cons(a, b)` constructs a pair, and `car(pair)` and `cdr(pair)` returns the first and last element of that pair. For example, `car(cons(3, 4))` returns `3`, and `cdr(cons(3, 4))` returns `4`.\n",
    "\n",
    "Given this implementation of cons:\n",
    "\n",
    "```\n",
    "def cons(a, b):\n",
    "    def pair(f):\n",
    "        return f(a, b)\n",
    "    return pair\n",
    "```\n",
    "\n",
    "Implement `car` and `cdr`."
   ]
  },
  {
   "cell_type": "code",
   "execution_count": 3,
   "metadata": {},
   "outputs": [],
   "source": [
    "def cons(a, b):\n",
    "    def pair(f):\n",
    "        return f(a, b)\n",
    "    return pair\n",
    "\n",
    "def car(pair):\n",
    "    def f(a, b):\n",
    "        return a\n",
    "    \n",
    "    return pair(f)\n",
    "\n",
    "def cdr(pair):\n",
    "    def f(a, b):\n",
    "        return b\n",
    "    \n",
    "    return pair(f)\n",
    "\n",
    "assert car(cons(3, 4)) == 3\n",
    "assert cdr(cons(3, 4)) == 4"
   ]
  }
 ],
 "metadata": {
  "kernelspec": {
   "display_name": "Python 3",
   "language": "python",
   "name": "python3"
  },
  "language_info": {
   "codemirror_mode": {
    "name": "ipython",
    "version": 3
   },
   "file_extension": ".py",
   "mimetype": "text/x-python",
   "name": "python",
   "nbconvert_exporter": "python",
   "pygments_lexer": "ipython3",
   "version": "3.9.5"
  }
 },
 "nbformat": 4,
 "nbformat_minor": 4
}
