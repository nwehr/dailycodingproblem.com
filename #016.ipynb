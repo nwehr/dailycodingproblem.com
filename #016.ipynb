{
 "cells": [
  {
   "cell_type": "markdown",
   "id": "0ce2ab9d",
   "metadata": {},
   "source": [
    "## #16 [Easy]\n",
    "\n",
    "This problem was asked by Twitter.\n",
    "\n",
    "You run an e-commerce website and want to record the last N order ids in a log. Implement a data structure to accomplish this, with the following API:\n",
    "\n",
    "record(order_id): adds the order_id to the log\n",
    "get_last(i): gets the ith last element from the log. i is guaranteed to be smaller than or equal to N.\n",
    "You should be as efficient with time and space as possible."
   ]
  },
  {
   "cell_type": "code",
   "execution_count": 24,
   "id": "6325ec9f",
   "metadata": {},
   "outputs": [
    {
     "name": "stdout",
     "output_type": "stream",
     "text": [
      "3\n"
     ]
    }
   ],
   "source": [
    "order_ids = []\n",
    "\n",
    "def record(order_id: int):\n",
    "    order_ids.append(order_id)\n",
    "    \n",
    "def get_last(n: int) -> int:\n",
    "    return order_ids[len(order_ids) - 1 - n]\n",
    "\n",
    "record(1)\n",
    "record(2)\n",
    "record(3)\n",
    "record(4)\n",
    "\n",
    "print(get_last(1))\n",
    "    "
   ]
  }
 ],
 "metadata": {
  "kernelspec": {
   "display_name": "Python 3",
   "language": "python",
   "name": "python3"
  },
  "language_info": {
   "codemirror_mode": {
    "name": "ipython",
    "version": 3
   },
   "file_extension": ".py",
   "mimetype": "text/x-python",
   "name": "python",
   "nbconvert_exporter": "python",
   "pygments_lexer": "ipython3",
   "version": "3.9.5"
  }
 },
 "nbformat": 4,
 "nbformat_minor": 5
}
