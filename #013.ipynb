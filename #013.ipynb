{
 "cells": [
  {
   "cell_type": "markdown",
   "id": "6d9c82f5",
   "metadata": {},
   "source": [
    "## #13 [Hard]\n",
    "\n",
    "This problem was asked by Amazon.\n",
    "\n",
    "Given an integer k and a string s, find the length of the longest substring that contains at most k distinct characters.\n",
    "\n",
    "For example, given s = \"abcba\" and k = 2, the longest substring with k distinct characters is \"bcb\"."
   ]
  },
  {
   "cell_type": "code",
   "execution_count": 35,
   "id": "5ca021ad",
   "metadata": {},
   "outputs": [
    {
     "name": "stdout",
     "output_type": "stream",
     "text": [
      "('bcb', 3)\n"
     ]
    }
   ],
   "source": [
    "def num_unique_chars(s: str) -> int:\n",
    "    unique_chars = set()\n",
    "    \n",
    "    for ch in s:\n",
    "        unique_chars.add(ch)\n",
    "    \n",
    "    return len(unique_chars)\n",
    "\n",
    "def longest_substr_with_max_unique_chars(s: str, k: int) -> (str, int):\n",
    "    current_max: int = 0\n",
    "    substr: str = s\n",
    "    \n",
    "    def find_max(_s: str):\n",
    "        nonlocal current_max\n",
    "        nonlocal substr\n",
    "        \n",
    "        if num_unique_chars(_s) == k:\n",
    "            if len(_s) > current_max:\n",
    "                current_max = len(_s)\n",
    "                substr = _s\n",
    "\n",
    "        if num_unique_chars(_s) > k:\n",
    "            if len(_s) > 1:\n",
    "                find_max(_s[1:])\n",
    "\n",
    "                for i in range(1, len(_s)):\n",
    "                    find_max(_s[:i])\n",
    "        \n",
    "    \n",
    "    find_max(s)\n",
    "    \n",
    "    return (substr, current_max)\n",
    "\n",
    "print(longest_substr_with_max_unique_chars(\"abcba\", 2))"
   ]
  }
 ],
 "metadata": {
  "kernelspec": {
   "display_name": "Python 3",
   "language": "python",
   "name": "python3"
  },
  "language_info": {
   "codemirror_mode": {
    "name": "ipython",
    "version": 3
   },
   "file_extension": ".py",
   "mimetype": "text/x-python",
   "name": "python",
   "nbconvert_exporter": "python",
   "pygments_lexer": "ipython3",
   "version": "3.9.5"
  }
 },
 "nbformat": 4,
 "nbformat_minor": 5
}
