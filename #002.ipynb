{
 "cells": [
  {
   "cell_type": "markdown",
   "metadata": {},
   "source": [
    "## #2 [Hard]\n",
    "\n",
    "This problem was asked by Uber.\n",
    "\n",
    "Given an array of integers, return a new array such that each element at index `i` of the new array is the product of all the numbers in the original array except the one at `i`.\n",
    "\n",
    "For example, if our input was `[1, 2, 3, 4, 5]`, the expected output would be `[120, 60, 40, 30, 24]`. If our input was `[3, 2, 1]`, the expected output would be `[2, 3, 6]`.\n",
    "\n",
    "Follow-up: what if you can't use division?"
   ]
  },
  {
   "cell_type": "code",
   "execution_count": 4,
   "metadata": {},
   "outputs": [],
   "source": [
    "def product_of_array(arr):\n",
    "    if len(arr) == 1:\n",
    "        return arr[0]\n",
    "    \n",
    "    arr[1] = arr[0] * arr[1]\n",
    "    \n",
    "    return product_of_array(arr[1:])\n",
    "\n",
    "\n",
    "def products(arr):\n",
    "    result = []\n",
    "    \n",
    "    for i in range(len(arr)):\n",
    "        result.append(product_of_array(arr[:i] + arr[i + 1:]))\n",
    "    \n",
    "    return result\n",
    "\n",
    "assert products([1, 2, 3, 4, 5]) == [120, 60, 40, 30, 24]\n",
    "assert products([3, 2, 1]) == [2, 3, 6]"
   ]
  }
 ],
 "metadata": {
  "kernelspec": {
   "display_name": "Python 3",
   "language": "python",
   "name": "python3"
  },
  "language_info": {
   "codemirror_mode": {
    "name": "ipython",
    "version": 3
   },
   "file_extension": ".py",
   "mimetype": "text/x-python",
   "name": "python",
   "nbconvert_exporter": "python",
   "pygments_lexer": "ipython3",
   "version": "3.9.5"
  }
 },
 "nbformat": 4,
 "nbformat_minor": 4
}
