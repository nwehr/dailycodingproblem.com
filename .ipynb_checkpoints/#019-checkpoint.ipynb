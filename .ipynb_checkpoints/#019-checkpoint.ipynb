{
 "cells": [
  {
   "cell_type": "markdown",
   "id": "bc6abc58",
   "metadata": {},
   "source": [
    "## #19 [Medium]\n",
    "\n",
    "This problem was asked by Facebook.\n",
    "\n",
    "A builder is looking to build a row of N houses that can be of K different colors. He has a goal of minimizing cost while ensuring that no two neighboring houses are of the same color.\n",
    "\n",
    "Given an N by K matrix where the nth row and kth column represents the cost to build the nth house with kth color, return the minimum cost which achieves this goal.\n",
    "\n",
    "#### Interpretation\n",
    "\n",
    "We want to return the minimum cost of building a new row of houses using only k cheapest colors from the matrix. No adjacent house can be the same color."
   ]
  },
  {
   "cell_type": "code",
   "execution_count": 39,
   "id": "445a7c81",
   "metadata": {},
   "outputs": [
    {
     "data": {
      "text/plain": [
       "(12, [1, 2, 3, 1, 2, 3])"
      ]
     },
     "execution_count": 39,
     "metadata": {},
     "output_type": "execute_result"
    }
   ],
   "source": [
    "def unique_colors(matrix: [[int]]) -> [int]:\n",
    "    colors = set()\n",
    "    \n",
    "    for row in matrix:\n",
    "        for cost in row:\n",
    "            colors.add(cost)\n",
    "            \n",
    "    return list(colors)\n",
    "    \n",
    "   \n",
    "def minimum_cost(num_houses, num_colors: int, colors: [int]) -> (int, [int]):\n",
    "    used_colors = []\n",
    "    color_index = 0\n",
    "    \n",
    "    for i in range(0, num_houses):\n",
    "        used_colors.append(colors[color_index])\n",
    "        color_index += 1\n",
    "        \n",
    "        if color_index == num_colors:\n",
    "            color_index = 0\n",
    "            \n",
    "    return sum(used_colors), used_colors\n",
    "    \n",
    "matrix = [\n",
    "    [5, 2, 3, 4],\n",
    "    [1, 3, 3, 7],\n",
    "    [2, 2, 3, 9],\n",
    "    [5, 2, 3, 3],\n",
    "]\n",
    "\n",
    "minimum_cost(6, 3, unique_colors(matrix))\n"
   ]
  }
 ],
 "metadata": {
  "kernelspec": {
   "display_name": "Python 3",
   "language": "python",
   "name": "python3"
  },
  "language_info": {
   "codemirror_mode": {
    "name": "ipython",
    "version": 3
   },
   "file_extension": ".py",
   "mimetype": "text/x-python",
   "name": "python",
   "nbconvert_exporter": "python",
   "pygments_lexer": "ipython3",
   "version": "3.9.5"
  }
 },
 "nbformat": 4,
 "nbformat_minor": 5
}
