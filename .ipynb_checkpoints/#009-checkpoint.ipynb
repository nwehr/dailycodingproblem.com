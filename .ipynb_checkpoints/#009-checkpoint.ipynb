{
 "cells": [
  {
   "cell_type": "markdown",
   "metadata": {},
   "source": [
    "## #9 [Hard]\n",
    "\n",
    "This problem was asked by Airbnb.\n",
    "\n",
    "Given a list of integers, write a function that returns the largest sum of non-adjacent numbers. Numbers can be 0 or negative.\n",
    "\n",
    "For example, `[2, 4, 6, 2, 5]` should return `13`, since we pick `2`, `6`, and `5`. `[5, 1, 1, 5]` should return `10`, since we pick `5` and `5`.\n",
    "\n",
    "Follow-up: Can you do this in `O(N)` time and constant space?"
   ]
  },
  {
   "cell_type": "code",
   "execution_count": 8,
   "metadata": {},
   "outputs": [],
   "source": [
    "def largest_sum(arr):\n",
    "    if len(arr) == 1:\n",
    "        return arr[0]\n",
    "    \n",
    "    if len(arr) == 2:\n",
    "        if arr[0] > arr[1]:\n",
    "            return arr[0]\n",
    "        \n",
    "        return arr[1]\n",
    "    \n",
    "    sum1 = arr[0] + largest_sum(arr[2:])\n",
    "    \n",
    "    if len(arr) > 3:\n",
    "        sum2 = arr[1] + largest_sum(arr[3:]) \n",
    "        \n",
    "        if sum2 > sum1:\n",
    "            return sum2\n",
    "    \n",
    "    return sum1\n",
    "\n",
    "assert largest_sum([2, 4, 6, 2, 5]) == 13\n",
    "assert largest_sum([5, 1, 1, 5]) == 10"
   ]
  }
 ],
 "metadata": {
  "kernelspec": {
   "display_name": "Python 3",
   "language": "python",
   "name": "python3"
  },
  "language_info": {
   "codemirror_mode": {
    "name": "ipython",
    "version": 3
   },
   "file_extension": ".py",
   "mimetype": "text/x-python",
   "name": "python",
   "nbconvert_exporter": "python",
   "pygments_lexer": "ipython3",
   "version": "3.9.5"
  }
 },
 "nbformat": 4,
 "nbformat_minor": 4
}
