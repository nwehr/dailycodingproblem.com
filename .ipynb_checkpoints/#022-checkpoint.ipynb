{
 "cells": [
  {
   "cell_type": "markdown",
   "id": "e3c306db",
   "metadata": {},
   "source": [
    "## #22 [Medium] \n",
    "\n",
    "This problem was asked by Microsoft.\n",
    "\n",
    "Given a dictionary of words and a string made up of those words (no spaces), return the original sentence in a list. If there is more than one possible reconstruction, return any of them. If there is no possible reconstruction, then return null.\n",
    "\n",
    "For example, given the set of words 'quick', 'brown', 'the', 'fox', and the string \"thequickbrownfox\", you should return `['the', 'quick', 'brown', 'fox']`.\n",
    "\n",
    "Given the set of words 'bed', 'bath', 'bedbath', 'and', 'beyond', and the string \"bedbathandbeyond\", return either `['bed', 'bath', 'and', 'beyond]` or `['bedbath', 'and', 'beyond']`."
   ]
  },
  {
   "cell_type": "code",
   "execution_count": 5,
   "id": "ab668a71",
   "metadata": {},
   "outputs": [
    {
     "name": "stdout",
     "output_type": "stream",
     "text": [
      "['the', 'quick', 'brown', 'fox']\n",
      "['bed', 'bath', 'and', 'beyond']\n"
     ]
    }
   ],
   "source": [
    "def get_sentence(s: str, catalogue: [str]) -> [str]:\n",
    "    words = []\n",
    "    \n",
    "    current_word = \"\"\n",
    "    \n",
    "    for ch in s:\n",
    "        current_word = current_word + ch\n",
    "        \n",
    "        for word in catalogue:\n",
    "            if current_word == word:\n",
    "                words = [*words, word]\n",
    "                current_word = \"\"\n",
    "            \n",
    "    return words\n",
    "\n",
    "catalogue = [\"the\", \"quick\", \"brown\", \"fox\", \"bed\", \"bath\", \"and\", \"beyond\"]\n",
    "\n",
    "print(get_sentence(\"thequickbrownfox\", catalogue))\n",
    "print(get_sentence(\"bedbathandbeyond\", catalogue))"
   ]
  }
 ],
 "metadata": {
  "kernelspec": {
   "display_name": "Python 3",
   "language": "python",
   "name": "python3"
  },
  "language_info": {
   "codemirror_mode": {
    "name": "ipython",
    "version": 3
   },
   "file_extension": ".py",
   "mimetype": "text/x-python",
   "name": "python",
   "nbconvert_exporter": "python",
   "pygments_lexer": "ipython3",
   "version": "3.9.5"
  }
 },
 "nbformat": 4,
 "nbformat_minor": 5
}
