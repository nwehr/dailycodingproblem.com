{
 "cells": [
  {
   "cell_type": "markdown",
   "metadata": {},
   "source": [
    "## #22 [Medium] \n",
    "\n",
    "This problem was asked by Microsoft.\n",
    "\n",
    "Given a dictionary of words and a string made up of those words (no spaces), return the original sentence in a list. If there is more than one possible reconstruction, return any of them. If there is no possible reconstruction, then return null.\n",
    "\n",
    "For example, given the set of words 'quick', 'brown', 'the', 'fox', and the string \"thequickbrownfox\", you should return `['the', 'quick', 'brown', 'fox']`.\n",
    "\n",
    "Given the set of words 'bed', 'bath', 'bedbath', 'and', 'beyond', and the string \"bedbathandbeyond\", return either `['bed', 'bath', 'and', 'beyond]` or `['bedbath', 'and', 'beyond']`."
   ]
  },
  {
   "cell_type": "code",
   "execution_count": 7,
   "metadata": {},
   "outputs": [
    {
     "name": "stdout",
     "output_type": "stream",
     "text": [
      "[the quick brown fox]\n",
      "[bed bath and beyond]\n"
     ]
    },
    {
     "data": {
      "text/plain": [
       "22 <nil>"
      ]
     },
     "execution_count": 7,
     "metadata": {},
     "output_type": "execute_result"
    }
   ],
   "source": [
    "import \"fmt\"\n",
    "\n",
    "func sentence(s string, catalog []string) (words []string) {\n",
    "    currentWord := \"\"\n",
    "    \n",
    "    for _, ch := range s {\n",
    "        currentWord += string(ch)\n",
    "        \n",
    "        for _, word := range catalog {\n",
    "            if currentWord == word {\n",
    "                words = append(words, word)\n",
    "                currentWord = \"\"\n",
    "            }\n",
    "        }\n",
    "    }\n",
    "}\n",
    "\n",
    "fmt.Println(sentence(\"thequickbrownfox\", []string{\"the\", \"quick\", \"brown\", \"fox\", \"bed\", \"bath\", \"and\", \"beyond\"}))\n",
    "fmt.Println(sentence(\"bedbathandbeyond\", []string{\"the\", \"quick\", \"brown\", \"fox\", \"bed\", \"bath\", \"and\", \"beyond\"}))"
   ]
  }
 ],
 "metadata": {
  "kernelspec": {
   "display_name": "Go",
   "language": "go",
   "name": "gophernotes"
  },
  "language_info": {
   "codemirror_mode": "",
   "file_extension": ".go",
   "mimetype": "",
   "name": "go",
   "nbconvert_exporter": "",
   "pygments_lexer": "",
   "version": "go1.11.4"
  }
 },
 "nbformat": 4,
 "nbformat_minor": 5
}
