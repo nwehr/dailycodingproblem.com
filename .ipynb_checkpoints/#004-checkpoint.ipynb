{
 "cells": [
  {
   "cell_type": "markdown",
   "metadata": {},
   "source": [
    "## #4 [Hard]\n",
    "\n",
    "This problem was asked by Stripe.\n",
    "\n",
    "Given an array of integers, find the first missing positive integer in linear time and constant space. In other words, find the lowest positive integer that does not exist in the array. The array can contain duplicates and negative numbers as well.\n",
    "\n",
    "For example, the input `[3, 4, -1, 1]` should give `2`. The input `[1, 2, 0]` should give `3`.\n",
    "\n",
    "You can modify the input array in-place."
   ]
  },
  {
   "cell_type": "code",
   "execution_count": 2,
   "metadata": {},
   "outputs": [],
   "source": [
    "def bubble_sort(arr):\n",
    "    n = len(arr)\n",
    "    \n",
    "    for i in range(n - 1):\n",
    "        for j in range(0, n - i - 1):\n",
    "            if arr[j] > arr[j + 1]:\n",
    "                arr[j], arr[j + 1] = arr[j + 1], arr[j]\n",
    "\n",
    "def drop_negative_numbers(arr):\n",
    "    for i in range(len(arr) - 1):\n",
    "        if arr[i] < 1:\n",
    "            continue\n",
    "        \n",
    "        return arr[i:]\n",
    "        \n",
    "                \n",
    "def lowest_consecutive_int(arr):\n",
    "    bubble_sort(arr)\n",
    "    \n",
    "    arr = drop_negative_numbers(arr)\n",
    "    \n",
    "    if arr[0] > 1:\n",
    "        return arr[0] - 1\n",
    "        \n",
    "    for i in range(len(arr) - 1):\n",
    "        if arr[i + 1] - arr[i] > 1:\n",
    "            return arr[i] + 1\n",
    "        \n",
    "    return arr[len(arr) - 1] + 1\n",
    "\n",
    "assert lowest_consecutive_int([3, 4, -1, 1]) == 2\n",
    "assert lowest_consecutive_int([1, 2, 0]) == 3\n",
    "assert lowest_consecutive_int([1, 2, 3, 5]) == 4"
   ]
  }
 ],
 "metadata": {
  "kernelspec": {
   "display_name": "Python 3",
   "language": "python",
   "name": "python3"
  },
  "language_info": {
   "codemirror_mode": {
    "name": "ipython",
    "version": 3
   },
   "file_extension": ".py",
   "mimetype": "text/x-python",
   "name": "python",
   "nbconvert_exporter": "python",
   "pygments_lexer": "ipython3",
   "version": "3.9.5"
  }
 },
 "nbformat": 4,
 "nbformat_minor": 4
}
