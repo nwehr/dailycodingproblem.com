{
 "cells": [
  {
   "cell_type": "markdown",
   "id": "50d5d753",
   "metadata": {},
   "source": [
    "## #14 [Medium]\n",
    "\n",
    "This problem was asked by Google.\n",
    "\n",
    "The area of a circle is defined as πr^2. Estimate π to 3 decimal places using a Monte Carlo method.\n",
    "\n",
    "Hint: The basic equation of a circle is x2 + y2 = r2."
   ]
  },
  {
   "cell_type": "code",
   "execution_count": 17,
   "id": "4ecb4481",
   "metadata": {},
   "outputs": [
    {
     "name": "stdout",
     "output_type": "stream",
     "text": [
      "3.1376\n"
     ]
    }
   ],
   "source": [
    "# Cheated on this since I'm not familiar with the math\n",
    "import random\n",
    "import math\n",
    "\n",
    "def estimate_pi(num_samples = 10000):\n",
    "    samples = []\n",
    "\n",
    "    for _ in range(num_samples):\n",
    "        x = random.random()\n",
    "        y = random.random()\n",
    "\n",
    "        samples.append(math.sqrt((x ** 2) + (y ** 2)))\n",
    "\n",
    "    num_in_circle = 0\n",
    "\n",
    "    for sample in samples:\n",
    "        if sample < 1:\n",
    "            num_in_circle += 1\n",
    "\n",
    "    return 4 * num_in_circle / len(samples)\n",
    "    \n",
    "print(estimate_pi())\n"
   ]
  }
 ],
 "metadata": {
  "kernelspec": {
   "display_name": "Python 3",
   "language": "python",
   "name": "python3"
  },
  "language_info": {
   "codemirror_mode": {
    "name": "ipython",
    "version": 3
   },
   "file_extension": ".py",
   "mimetype": "text/x-python",
   "name": "python",
   "nbconvert_exporter": "python",
   "pygments_lexer": "ipython3",
   "version": "3.9.5"
  }
 },
 "nbformat": 4,
 "nbformat_minor": 5
}
