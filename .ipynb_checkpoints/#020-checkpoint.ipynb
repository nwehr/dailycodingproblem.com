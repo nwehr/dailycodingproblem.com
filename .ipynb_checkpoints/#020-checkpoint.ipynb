{
 "cells": [
  {
   "cell_type": "markdown",
   "id": "27d32861",
   "metadata": {},
   "source": [
    "## #20 [Easy]\n",
    "\n",
    "This problem was asked by Google.\n",
    "\n",
    "Given two singly linked lists that intersect at some point, find the intersecting node. The lists are non-cyclical.\n",
    "\n",
    "For example, given `A = 3 -> 7 -> 8 -> 10` and `B = 99 -> 1 -> 8 -> 10`, return the node with value `8`.\n",
    "\n",
    "In this example, assume nodes with the same value are the exact same node objects.\n",
    "\n",
    "Do this in `O(M + N)` time (where `M` and `N` are the lengths of the lists) and constant space."
   ]
  },
  {
   "cell_type": "code",
   "execution_count": 27,
   "id": "c738e3f6",
   "metadata": {},
   "outputs": [
    {
     "data": {
      "text/plain": [
       "<__main__.Queue at 0x7f443cad1550>"
      ]
     },
     "execution_count": 27,
     "metadata": {},
     "output_type": "execute_result"
    }
   ],
   "source": [
    "class Item:\n",
    "    def __init__(self, value: int):\n",
    "        self.value = value\n",
    "        self.next = None\n",
    "\n",
    "class Queue:\n",
    "    def __init__(self):\n",
    "        self.head: Item = None\n",
    "        self.tail: Item = None\n",
    "        \n",
    "    def add(self, value: int):\n",
    "        if self.head == None:\n",
    "            self.head = Item(value)\n",
    "            self.tail = self.head\n",
    "        else:\n",
    "            self.tail.next = Item(value)\n",
    "            self.tail = self.tail.next\n",
    "        \n",
    "        return self\n",
    "\n",
    "a = Queue()    \n",
    "a.add(3).add(7).add(8).add(10)\n",
    "\n",
    "b = Queue()\n",
    "b.add(99).add(1).add(8).add(10)"
   ]
  },
  {
   "cell_type": "code",
   "execution_count": 28,
   "id": "9597182d",
   "metadata": {},
   "outputs": [
    {
     "data": {
      "text/plain": [
       "8"
      ]
     },
     "execution_count": 28,
     "metadata": {},
     "output_type": "execute_result"
    }
   ],
   "source": [
    "# This implementation assumes the intersection occurres at the same position in each list.\n",
    "def find_intersection(a: Item, b: Item) -> int:\n",
    "    if a.value == b.value:\n",
    "        return a.value\n",
    "    \n",
    "    if a.next != None and b.next != None:\n",
    "        return find_intersection(a.next, b.next)\n",
    "        \n",
    "    return None\n",
    "\n",
    "find_intersection(a.head, b.head)"
   ]
  },
  {
   "cell_type": "code",
   "execution_count": 35,
   "id": "85a50db6",
   "metadata": {},
   "outputs": [
    {
     "data": {
      "text/plain": [
       "8"
      ]
     },
     "execution_count": 35,
     "metadata": {},
     "output_type": "execute_result"
    }
   ],
   "source": [
    "# This implementation makes no assumptions about where the intersection occures.\n",
    "def find_intersection_2(a: Queue, b: Queue) -> int:\n",
    "    def contains_value(head_b: Item, value_a: int) -> bool:\n",
    "        if head_b.value == value_a:\n",
    "            return True\n",
    "        \n",
    "        if head_b.next != None:\n",
    "            return contains_value(head_b.next, value_a)\n",
    "        \n",
    "        return False\n",
    "    \n",
    "\n",
    "    def iterate_and_compare(head_a: Item):\n",
    "        if contains_value(b.head, head_a.value):\n",
    "            return head_a.value\n",
    "        \n",
    "        if head.next != None:\n",
    "            return iterate_and_compare(head_a.next)\n",
    "        \n",
    "        return None\n",
    "            \n",
    "    \n",
    "    return iterate_and_compare(a.head)\n",
    "        \n",
    "find_intersection_2(a, b)"
   ]
  }
 ],
 "metadata": {
  "kernelspec": {
   "display_name": "Python 3",
   "language": "python",
   "name": "python3"
  },
  "language_info": {
   "codemirror_mode": {
    "name": "ipython",
    "version": 3
   },
   "file_extension": ".py",
   "mimetype": "text/x-python",
   "name": "python",
   "nbconvert_exporter": "python",
   "pygments_lexer": "ipython3",
   "version": "3.9.5"
  }
 },
 "nbformat": 4,
 "nbformat_minor": 5
}
