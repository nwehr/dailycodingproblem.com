{
 "cells": [
  {
   "cell_type": "markdown",
   "metadata": {},
   "source": [
    "## #7 [Medium]\n",
    "\n",
    "This problem was asked by Facebook.\n",
    "\n",
    "Given the mapping a = 1, b = 2, ... z = 26, and an encoded message, count the number of ways it can be decoded.\n",
    "\n",
    "For example, the message '111' would give 3, since it could be decoded as 'aaa', 'ka', and 'ak'.\n",
    "\n",
    "You can assume that the messages are decodable. For example, '001' is not allowed."
   ]
  },
  {
   "cell_type": "code",
   "execution_count": 46,
   "metadata": {},
   "outputs": [],
   "source": [
    "def decode(encoded):\n",
    "    chars = {}\n",
    "\n",
    "    for i in range(0, 26):\n",
    "        chars[str(i + 1)] = chr(i + 97)\n",
    "        \n",
    "    branches = []\n",
    "    \n",
    "    def _decode(encoded, branch = None):\n",
    "        if branch == None:\n",
    "            branches.append(\"\")\n",
    "            branch = len(branches) - 1\n",
    "\n",
    "        if len(encoded) == 1:\n",
    "            branches[branch] += chars[encoded[0]]\n",
    "            return\n",
    "\n",
    "        if len(encoded) > 1:\n",
    "            if encoded[0:2] in chars:\n",
    "                branches.append(branches[branch])\n",
    "                branches[len(branches) - 1] += chars[encoded[0:2]]\n",
    "                _decode(encoded[2:], len(branches) - 1)\n",
    "\n",
    "            branches[branch] += chars[encoded[0]]\n",
    "            _decode(encoded[1:], branch)\n",
    "            \n",
    "    _decode(encoded)\n",
    "    \n",
    "    return branches\n",
    "\n",
    "assert decode('111') == ['aaa', 'ka', 'ak']"
   ]
  }
 ],
 "metadata": {
  "kernelspec": {
   "display_name": "Python 3",
   "language": "python",
   "name": "python3"
  },
  "language_info": {
   "codemirror_mode": {
    "name": "ipython",
    "version": 3
   },
   "file_extension": ".py",
   "mimetype": "text/x-python",
   "name": "python",
   "nbconvert_exporter": "python",
   "pygments_lexer": "ipython3",
   "version": "3.8.6"
  }
 },
 "nbformat": 4,
 "nbformat_minor": 4
}
