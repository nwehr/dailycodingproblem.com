{
 "cells": [
  {
   "cell_type": "markdown",
   "id": "81386074",
   "metadata": {},
   "source": [
    "## #21 [Easy]\n",
    "\n",
    "This problem was asked by Snapchat.\n",
    "\n",
    "Given an array of time intervals (start, end) for classroom lectures (possibly overlapping), find the minimum number of rooms required.\n",
    "\n",
    "For example, given `[(30, 75), (0, 50), (60, 150)]`, you should return `2`."
   ]
  },
  {
   "cell_type": "code",
   "execution_count": 31,
   "id": "775483ce",
   "metadata": {},
   "outputs": [
    {
     "data": {
      "text/plain": [
       "2"
      ]
     },
     "execution_count": 31,
     "metadata": {},
     "output_type": "execute_result"
    }
   ],
   "source": [
    "def minimum_required_rooms(time_intervals: [(int, int)]) -> int:\n",
    "    times = set()\n",
    "    \n",
    "    for interval in time_intervals:\n",
    "        start, end = interval\n",
    "        times.add(start)\n",
    "        times.add(end)\n",
    "            \n",
    "    max_overlapping_intervals = 1\n",
    "            \n",
    "    for time in times:\n",
    "        overlapping_intervals = 0\n",
    "        \n",
    "        for interval in time_intervals:\n",
    "            start, end = interval\n",
    "            \n",
    "            if time >= start and time <= end:\n",
    "                overlapping_intervals += 1\n",
    "                \n",
    "        if overlapping_intervals > max_overlapping_intervals:\n",
    "            max_overlapping_intervals = overlapping_intervals\n",
    "        \n",
    "    return max_overlapping_intervals\n",
    "\n",
    "time_intervals = [\n",
    "    (30, 75),\n",
    "    (0, 50),\n",
    "    (60, 150),\n",
    "]\n",
    "\n",
    "minimum_required_rooms(time_intervals)"
   ]
  }
 ],
 "metadata": {
  "kernelspec": {
   "display_name": "Python 3",
   "language": "python",
   "name": "python3"
  },
  "language_info": {
   "codemirror_mode": {
    "name": "ipython",
    "version": 3
   },
   "file_extension": ".py",
   "mimetype": "text/x-python",
   "name": "python",
   "nbconvert_exporter": "python",
   "pygments_lexer": "ipython3",
   "version": "3.9.5"
  }
 },
 "nbformat": 4,
 "nbformat_minor": 5
}
