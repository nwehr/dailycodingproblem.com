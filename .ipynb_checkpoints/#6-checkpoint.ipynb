{
 "cells": [
  {
   "cell_type": "markdown",
   "metadata": {},
   "source": [
    "## #6 [Hard]\n",
    "\n",
    "This problem was asked by Google.\n",
    "\n",
    "An XOR linked list is a more memory efficient doubly linked list. Instead of each node holding `next` and `prev` fields, it holds a field named `both`, which is an XOR of the next node and the previous node. Implement an XOR linked list; it has an `add(element)` which adds the element to the end, and a `get(index)` which returns the node at index.\n",
    "\n",
    "If using a language that has no pointers (such as Python), you can assume you have access to `get_pointer` and `dereference_pointer` functions that converts between nodes and memory addresses."
   ]
  },
  {
   "cell_type": "code",
   "execution_count": 1,
   "metadata": {},
   "outputs": [],
   "source": [
    "class Node:\n",
    "    def __init__(self, value):\n",
    "        self.value = value\n",
    "        self.both = 0\n",
    "    \n",
    "class XORList:\n",
    "    def __init__(self):\n",
    "        self.mem = {}\n",
    "        \n",
    "        self.head = 0\n",
    "        self.tail = 0\n",
    "        \n",
    "    def add(self, node):\n",
    "        addr = id(node)\n",
    "        self.mem[addr] = node\n",
    "            \n",
    "        if not self.head:\n",
    "            self.head = addr\n",
    "        else:\n",
    "            # update previous tail to point to new tail\n",
    "            self.mem[self.tail].both = self.mem[self.tail].both ^ addr\n",
    "        \n",
    "        # new tail needs to point to previous tail\n",
    "        self.mem[addr].both = 0 ^ self.tail\n",
    "        self.tail = addr\n",
    "        \n",
    "    def get(self, index):\n",
    "        prev = 0\n",
    "        curr = self.head\n",
    "        \n",
    "        for i in range(1, index + 1):\n",
    "            next = prev ^ self.mem[curr].both\n",
    "            \n",
    "            prev = curr\n",
    "            curr = next\n",
    "            \n",
    "        return self.mem[curr]\n",
    "\n",
    "l = XORList()\n",
    "\n",
    "l.add(Node(\"a\"))\n",
    "l.add(Node(\"b\"))\n",
    "l.add(Node(\"c\"))\n",
    "\n",
    "assert l.get(0).value == \"a\"\n",
    "assert l.get(1).value == \"b\"\n",
    "assert l.get(2).value == \"c\""
   ]
  }
 ],
 "metadata": {
  "kernelspec": {
   "display_name": "Python 3",
   "language": "python",
   "name": "python3"
  },
  "language_info": {
   "codemirror_mode": {
    "name": "ipython",
    "version": 3
   },
   "file_extension": ".py",
   "mimetype": "text/x-python",
   "name": "python",
   "nbconvert_exporter": "python",
   "pygments_lexer": "ipython3",
   "version": "3.8.6"
  }
 },
 "nbformat": 4,
 "nbformat_minor": 4
}
