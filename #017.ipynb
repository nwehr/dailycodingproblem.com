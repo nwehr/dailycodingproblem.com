{
 "cells": [
  {
   "cell_type": "markdown",
   "id": "9074f4a9",
   "metadata": {},
   "source": [
    "## #17 [Hard]\n",
    "\n",
    "This problem was asked by Google.\n",
    "\n",
    "Suppose we represent our file system by a string in the following manner:\n",
    "\n",
    "The string `\"dir\\n\\tsubdir1\\n\\tsubdir2\\n\\t\\tfile.ext\"` represents:\n",
    "```\n",
    "dir\n",
    "    subdir1\n",
    "    subdir2\n",
    "        file.ext\n",
    "```\n",
    "The directory dir contains an empty sub-directory subdir1 and a sub-directory subdir2 containing a file file.ext.\n",
    "\n",
    "The string `\"dir\\n\\tsubdir1\\n\\t\\tfile1.ext\\n\\t\\tsubsubdir1\\n\\tsubdir2\\n\\t\\tsubsubdir2\\n\\t\\t\\tfile2.ext\"` represents:\n",
    "```\n",
    "dir\n",
    "    subdir1\n",
    "        file1.ext\n",
    "        subsubdir1\n",
    "    subdir2\n",
    "        subsubdir2\n",
    "            file2.ext\n",
    "```\n",
    "The directory dir contains two sub-directories subdir1 and subdir2. subdir1 contains a file file1.ext and an empty second-level sub-directory subsubdir1. subdir2 contains a second-level sub-directory subsubdir2 containing a file file2.ext.\n",
    "\n",
    "We are interested in finding the longest (number of characters) absolute path to a file within our file system. For example, in the second example above, the longest absolute path is `\"dir/subdir2/subsubdir2/file2.ext\"`, and its length is 32 (not including the double quotes).\n",
    "\n",
    "Given a string representing the file system in the above format, return the length of the longest absolute path to a file in the abstracted file system. If there is no file in the system, return 0.\n",
    "\n",
    "Note:\n",
    "\n",
    "The name of a file contains at least a period and an extension.\n",
    "\n",
    "The name of a directory or sub-directory will not contain a period.\n",
    "\n"
   ]
  },
  {
   "cell_type": "code",
   "execution_count": 27,
   "id": "44be07c6",
   "metadata": {},
   "outputs": [
    {
     "name": "stdout",
     "output_type": "stream",
     "text": [
      "dir/subdir2/subsubdir2/file2.ext\n"
     ]
    }
   ],
   "source": [
    "def longest_filepath(filesystem: str) -> str:\n",
    "    paths: [str] = []\n",
    "\n",
    "    def file_paths(filesystem: str, current_path: [str] = []):\n",
    "        node = \"\"\n",
    "        next_depth = 0\n",
    "\n",
    "        for i in range(0, len(filesystem)):\n",
    "            if filesystem[i] == '\\n':\n",
    "                continue\n",
    "\n",
    "            if filesystem[i] == '\\t':\n",
    "                next_depth += 1\n",
    "                continue\n",
    "\n",
    "            if next_depth > 0:\n",
    "                if \".\" in node:\n",
    "                    paths.append(\"/\".join([*current_path, node]))\n",
    "\n",
    "                return file_paths(filesystem[i:], [*current_path, node][:next_depth])\n",
    "\n",
    "            node += filesystem[i]\n",
    "\n",
    "        if \".\" in node:\n",
    "            paths.append(\"/\".join([*current_path, node]))\n",
    "\n",
    "    file_paths(filesystem)\n",
    "    \n",
    "    path = \"\"\n",
    "    \n",
    "    for p in paths:\n",
    "        if len(p) > len(path):\n",
    "            path = p\n",
    "            \n",
    "    return path\n",
    "\n",
    "print(longest_filepath(\"dir\\n\\tsubdir1\\n\\t\\tfile1.ext\\n\\t\\tsubsubdir1\\n\\tsubdir2\\n\\t\\tsubsubdir2\\n\\t\\t\\tfile2.ext\"))"
   ]
  }
 ],
 "metadata": {
  "kernelspec": {
   "display_name": "Python 3",
   "language": "python",
   "name": "python3"
  },
  "language_info": {
   "codemirror_mode": {
    "name": "ipython",
    "version": 3
   },
   "file_extension": ".py",
   "mimetype": "text/x-python",
   "name": "python",
   "nbconvert_exporter": "python",
   "pygments_lexer": "ipython3",
   "version": "3.9.5"
  }
 },
 "nbformat": 4,
 "nbformat_minor": 5
}
