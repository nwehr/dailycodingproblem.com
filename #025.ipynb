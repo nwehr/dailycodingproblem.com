{
 "cells": [
  {
   "cell_type": "markdown",
   "metadata": {},
   "source": [
    "## #25 [Hard]\n",
    "\n",
    "This problem was asked by Facebook.\n",
    "\n",
    "Implement regular expression matching with the following special characters:\n",
    "\n",
    "`.` (period) which matches any single character\n",
    "\n",
    "`*` (asterisk) which matches zero or more of the preceding element\n",
    "\n",
    "That is, implement a function that takes in a string and a valid regular expression and returns whether or not the string matches the regular expression.\n",
    "\n",
    "For example, given the regular expression \"ra.\" and the string \"ray\", your function should return true. The same regular expression on the string \"raymond\" should return false.\n",
    "\n",
    "Given the regular expression \".*at\" and the string \"chat\", your function should return true. The same regular expression on the string \"chats\" should return false."
   ]
  },
  {
   "cell_type": "code",
   "execution_count": 167,
   "metadata": {},
   "outputs": [
    {
     "data": {
      "text/plain": [
       "True"
      ]
     },
     "execution_count": 167,
     "metadata": {},
     "output_type": "execute_result"
    }
   ],
   "source": [
    "def matches(s: str, expr: str) -> bool:\n",
    "    # We've reached the end\n",
    "    if len(s) == 0 or len(expr) == 0:\n",
    "        if len(s) == len(expr):\n",
    "            return True\n",
    "        \n",
    "        if len(expr) == 2 and expr[1] == \"*\":\n",
    "            return True\n",
    "        \n",
    "        return False\n",
    "    \n",
    "    # Peek for greedy char\n",
    "    if len(expr) > 1 and expr[1] == \"*\":\n",
    "        greedy = expr[0]\n",
    "        \n",
    "        # any char\n",
    "        if greedy == \".\":\n",
    "            if len(expr) == 2:\n",
    "                return True\n",
    "            \n",
    "            for i in range(0, len(s)):\n",
    "                if s[i] == expr[2]:\n",
    "                    if matches(s[i:], expr[2:]):\n",
    "                        return True\n",
    "                \n",
    "            return False\n",
    "        \n",
    "        # greedy char\n",
    "        for i in range(0, len(s)):\n",
    "            if s[i] != greedy:\n",
    "                return matches(s[i:], expr[2:])  \n",
    "\n",
    "    if s[0] != expr[0] and expr[0] != \".\":\n",
    "        return False\n",
    "    \n",
    "    return matches(s[1:], expr[1:])\n",
    "        \n",
    "matches(\"cars boats and trucks\", \"car.*boat.*\")"
   ]
  }
 ],
 "metadata": {
  "kernelspec": {
   "display_name": "Python 3",
   "language": "python",
   "name": "python3"
  },
  "language_info": {
   "codemirror_mode": {
    "name": "ipython",
    "version": 3
   },
   "file_extension": ".py",
   "mimetype": "text/x-python",
   "name": "python",
   "nbconvert_exporter": "python",
   "pygments_lexer": "ipython3",
   "version": "3.6.5"
  }
 },
 "nbformat": 4,
 "nbformat_minor": 2
}
