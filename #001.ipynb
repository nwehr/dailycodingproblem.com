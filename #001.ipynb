{
 "cells": [
  {
   "cell_type": "markdown",
   "metadata": {},
   "source": [
    "## #1 [Easy]\n",
    "\n",
    "This problem was recently asked by Google.\n",
    "\n",
    "Given a list of numbers and a number `k`, return whether any two numbers from the list add up to `k`.\n",
    "\n",
    "For example, given `[10, 15, 3, 7]` and `k` of `17`, return true since `10 + 7` is `17`.\n",
    "\n",
    "Bonus: Can you do this in one pass?"
   ]
  },
  {
   "cell_type": "code",
   "execution_count": 9,
   "metadata": {},
   "outputs": [],
   "source": [
    "def check(n, k):\n",
    "    needed = set({})\n",
    "    \n",
    "    for x in n:\n",
    "        if x in needed:\n",
    "            return [k - x, x]\n",
    "        \n",
    "        needed |= { k - x }\n",
    "        \n",
    "    return []\n",
    "\n",
    "assert check([10, 15, 3, 7], 17) == [10, 7]\n",
    "assert check([1, 2, 3, 4, 5], 7) == [3, 4]"
   ]
  }
 ],
 "metadata": {
  "kernelspec": {
   "display_name": "Python 3",
   "language": "python",
   "name": "python3"
  },
  "language_info": {
   "codemirror_mode": {
    "name": "ipython",
    "version": 3
   },
   "file_extension": ".py",
   "mimetype": "text/x-python",
   "name": "python",
   "nbconvert_exporter": "python",
   "pygments_lexer": "ipython3",
   "version": "3.6.5"
  }
 },
 "nbformat": 4,
 "nbformat_minor": 4
}
